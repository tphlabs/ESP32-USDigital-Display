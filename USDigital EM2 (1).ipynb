{
 "cells": [
  {
   "attachments": {},
   "cell_type": "markdown",
   "id": "5970b5d1-f634-4cae-8a1c-3e04d5a8ce42",
   "metadata": {},
   "source": [
    "<div style=\"\n",
    "    font-family: Arial;\n",
    "    font-size: 60px;\n",
    "    text-align: center;\n",
    "    direction: rtl;\n",
    "\">\n",
    "    מדידת זווית עם אנקודר </br>US Digital EM2\n",
    "</div>\n",
    "<div style=\"\n",
    "    font-family: Arial;\n",
    "    font-size: 24px;\n",
    "    text-align: center;\n",
    "    direction: rtl;\n",
    "\">\n",
    "    פיתוח ובחינה של פתרון מדידה מבוסס ESP32 כאופציה זולה וגמישה יותר למערכות מסחריות קיימות\n",
    "</div>\n",
    "\n",
  "<div style="text-align: center;">",
  "  <img src=\"https://raw.githubusercontent.com/tphlabs/ESP32-USDigital-Display/main/Images/1.png\" width=\"300\">\n",
  "</div>"
   ]
  },
  {
   "attachments": {},
   "cell_type": "markdown",
   "id": "46167c59-0c02-4b53-b492-9fd6d17369c0",
   "metadata": {},
   "source": [
    "<div style=\"\n",
    "    font-family: Arial;\n",
    "    font-size: 60px;\n",
    "    text-align: center;\n",
    "    direction: rtl;\n",
    "\">\n",
    "    עקרון הפעולה של אנקודר אופטי\n",
    "</div>\n",
    "<div style=\"\n",
    "    font-family: Arial;\n",
    "    font-size: 24px;\n",
    "    text-align: right;\n",
    "    direction: rtl;\n",
    "\">\n",
    "    אנקודר  EM2 סופר את מעבר האור דרך דיסק מקודד עם קווים שקופים וכהים.\n",
    "מקור אור עם עדשה מקרין על הדיסק,</br> והאור המועבר נקלט על ידי מערך גלאים בהיסט פאזה(phased array technology).</br>\n",
    " סיבוב הדיסק יוצר רצף פולסי אור וחושך המומרים לאותות דיגיטליים.</br>\n",
    "יתרונות טכנולוגיית Phased Array:\n",
    "הדבר מאפשר עמידות גבוהה לרעשים, ללכלוך, לשינוי מרחק בין הדיסק לחיישן, תוך שמירה על דיוק גבוה.\n",
    "</div>"
   ]
  },
  {
   "attachments": {},
   "cell_type": "markdown",
   "id": "63d1146b-6c68-41e7-af32-813d48561846",
   "metadata": {},
   "source": [
    "<div style=\"\n",
    "    font-family: Arial;\n",
    "    font-size: 60px;\n",
    "    text-align: center;\n",
    "    direction: rtl;\n",
    "\">קידוד קוודרטורה   ודיאגרמת מצבים\n",
    "</div>\n",
    "<div style=\"\n",
    "    font-family: Arial;\n",
    "    font-size: 24px;\n",
    "    text-align: right;\n",
    "    direction: rtl;\n",
    "\">המערכת משתמשת בשני ערוצי חישה A ו- B מוזזים ב-90 מעלות חשמליות זה מזה. \n",
    "דיאגרמת מצבים\n",
    "המערכת עוברת בין ארבעה מצבים. המעבר בין המצבים מייצר קוד גריי מחזורי.\n",
    "סיבוב נגד כיוון השעון: 00→01→11→10→00\n",
    "סיבוב עם כיוון השעון: 00→10→11→01→00\n",
    "ניתוח של ארבעת המצבים האלה נקרא \"קידוד רבועי\" - וזה מגדיל את הדיוק\n",
    "</div>"
   ]
  },
  {
   "attachments": {},
   "cell_type": "markdown",
   "id": "5978c9e5-4af2-42ad-8a33-8cf9f7fab58b",
   "metadata": {},
   "source": [
    "<div style=\"\n",
    "    font-family: Arial;\n",
    "    font-size: 60px;\n",
    "    text-align: center;\n",
    "    direction: rtl;\n",
    "\">דרך העבודה של המיקרו-בקר\n",
    "</div>\n",
    "<div style=\"\n",
    "    font-family: Arial;\n",
    "    font-size: 24px;\n",
    "    text-align: right;\n",
    "    direction: rtl;\n",
    "\">המיקרו-בקר  ESP32מחובר לאותות A ו- Bדרך פינים דיגיטליים.\n",
    "    כל שינוי במתח יוצר עדכון. בפונקציית הפסיקה נבדק המצב הנוכחי מול הקודם, נקבע כיוון התנועה ונעשית ספירה של הצעדים. כך נשמרת רזולוציה גבוהה בזמן אמת.\n",
    "</div>"
   ]
  },
  {
   "cell_type": "markdown",
   "id": "cc9e2f08-1b5a-4d0b-ac21-1d8ac9f5b4fc",
   "metadata": {},
   "source": [
    "<div style=\"\n",
    "    font-family: Arial;\n",
    "    font-size: 60px;\n",
    "    text-align: center;\n",
    "    direction: rtl;\n",
    "\">חישוב הרזולוציה התיאורטית והמעשית\n",
    "</div>\n",
    "<div style=\"\n",
    "    font-family: Arial;\n",
    "    font-size: 24px;\n",
    "    text-align: right;\n",
    "    direction: rtl;\n",
    "\">האנקודר מספק 8000 מחזורי אות לכל סיבוב. בשיטת קידוד רבועי, כל מחזור מייצר 4 פולסים כלומר 32,000 פולסים לסיבוב מלא. זו הרזולוציה התיאורטית.\n",
    "    דיוק זוויתי של המערכתעם 32,000 פולסים לסיבוב של 360°, כל פולס מייצג 0.01125 מעלות.\n",
    "    תוכנית הכיול-  בדיקה ניסויית של הדיוק באמצעות מד זווית מכני. נבצע מדידות בזוויות ידועות, נשווה את קריאת האנקודר ונחשב את השגיאה בכל נקודה\n",
    "</div>"
   ]
  },
  {
   "attachments": {},
   "cell_type": "markdown",
   "id": "24865af7-671d-4cb1-b7e1-5e2306c6329a",
   "metadata": {},
   "source": [
    "<div style=\"\n",
    "    font-family: Arial;\n",
    "    font-size: 60px;\n",
    "    text-align: center;\n",
    "    direction: rtl;\n",
    "\">איך נבדוק את הדיוק?\n",
    "</div>\n",
    "<div style=\"\n",
    "    font-family: Arial;\n",
    "    font-size: 24px;\n",
    "    text-align: right;\n",
    "    direction: rtl;\n",
    "\">נשווה בין קריאת האנקודר לזוויות אמיתיות שנמדדו עם פרוטרקטור) הנחנו שגיאת מדידה של ±0.33° בפרוטרקטור(. נבצע ניתוח סטטיסטי (התאמה ליניארית ומבחן חי-בריבוע) כדי לבדוק אם קיימת הטיה או שגיאה שיטתית, וכמה המכשיר מדויק.</div>div>"
   ]
  },
  {
   "cell_type": "code",
   "execution_count": null,
   "id": "005bdca0-445c-4fef-bd76-b1a79ef8a548",
   "metadata": {},
   "outputs": [],
   "source": []
  }
 ],
 "metadata": {
  "kernelspec": {
   "display_name": "Python 3 (ipykernel)",
   "language": "python",
   "name": "python3"
  },
  "language_info": {
   "codemirror_mode": {
    "name": "ipython",
    "version": 3
   },
   "file_extension": ".py",
   "mimetype": "text/x-python",
   "name": "python",
   "nbconvert_exporter": "python",
   "pygments_lexer": "ipython3",
   "version": "3.12.7"
  }
 },
 "nbformat": 4,
 "nbformat_minor": 5
}
